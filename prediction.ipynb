{
 "cells": [
  {
   "cell_type": "code",
   "execution_count": 69,
   "metadata": {},
   "outputs": [],
   "source": [
    "# Step 1: Import Libraries and Load the Model\n",
    "import numpy as np\n",
    "import tensorflow as tf\n",
    "from tensorflow.keras.datasets import imdb\n",
    "from tensorflow.keras.preprocessing import sequence\n",
    "from tensorflow.keras.models import load_model"
   ]
  },
  {
   "cell_type": "code",
   "execution_count": 70,
   "metadata": {},
   "outputs": [],
   "source": [
    "\n",
    "# Load the IMDB dataset word index\n",
    "word_index = imdb.get_word_index()\n",
    "reverse_word_index = {value: key for key, value in word_index.items()}"
   ]
  },
  {
   "cell_type": "code",
   "execution_count": 71,
   "metadata": {},
   "outputs": [
    {
     "name": "stderr",
     "output_type": "stream",
     "text": [
      "WARNING:absl:Compiled the loaded model, but the compiled metrics have yet to be built. `model.compile_metrics` will be empty until you train or evaluate the model.\n"
     ]
    },
    {
     "data": {
      "text/html": [
       "<pre style=\"white-space:pre;overflow-x:auto;line-height:normal;font-family:Menlo,'DejaVu Sans Mono',consolas,'Courier New',monospace\"><span style=\"font-weight: bold\">Model: \"sequential_4\"</span>\n",
       "</pre>\n"
      ],
      "text/plain": [
       "\u001b[1mModel: \"sequential_4\"\u001b[0m\n"
      ]
     },
     "metadata": {},
     "output_type": "display_data"
    },
    {
     "data": {
      "text/html": [
       "<pre style=\"white-space:pre;overflow-x:auto;line-height:normal;font-family:Menlo,'DejaVu Sans Mono',consolas,'Courier New',monospace\">┏━━━━━━━━━━━━━━━━━━━━━━━━━━━━━━━━━┳━━━━━━━━━━━━━━━━━━━━━━━━┳━━━━━━━━━━━━━━━┓\n",
       "┃<span style=\"font-weight: bold\"> Layer (type)                    </span>┃<span style=\"font-weight: bold\"> Output Shape           </span>┃<span style=\"font-weight: bold\">       Param # </span>┃\n",
       "┡━━━━━━━━━━━━━━━━━━━━━━━━━━━━━━━━━╇━━━━━━━━━━━━━━━━━━━━━━━━╇━━━━━━━━━━━━━━━┩\n",
       "│ embedding_4 (<span style=\"color: #0087ff; text-decoration-color: #0087ff\">Embedding</span>)         │ (<span style=\"color: #00af00; text-decoration-color: #00af00\">32</span>, <span style=\"color: #00af00; text-decoration-color: #00af00\">500</span>, <span style=\"color: #00af00; text-decoration-color: #00af00\">128</span>)         │     <span style=\"color: #00af00; text-decoration-color: #00af00\">1,280,000</span> │\n",
       "├─────────────────────────────────┼────────────────────────┼───────────────┤\n",
       "│ simple_rnn_4 (<span style=\"color: #0087ff; text-decoration-color: #0087ff\">SimpleRNN</span>)        │ (<span style=\"color: #00af00; text-decoration-color: #00af00\">32</span>, <span style=\"color: #00af00; text-decoration-color: #00af00\">128</span>)              │        <span style=\"color: #00af00; text-decoration-color: #00af00\">32,896</span> │\n",
       "├─────────────────────────────────┼────────────────────────┼───────────────┤\n",
       "│ dense_4 (<span style=\"color: #0087ff; text-decoration-color: #0087ff\">Dense</span>)                 │ (<span style=\"color: #00af00; text-decoration-color: #00af00\">32</span>, <span style=\"color: #00af00; text-decoration-color: #00af00\">1</span>)                │           <span style=\"color: #00af00; text-decoration-color: #00af00\">129</span> │\n",
       "└─────────────────────────────────┴────────────────────────┴───────────────┘\n",
       "</pre>\n"
      ],
      "text/plain": [
       "┏━━━━━━━━━━━━━━━━━━━━━━━━━━━━━━━━━┳━━━━━━━━━━━━━━━━━━━━━━━━┳━━━━━━━━━━━━━━━┓\n",
       "┃\u001b[1m \u001b[0m\u001b[1mLayer (type)                   \u001b[0m\u001b[1m \u001b[0m┃\u001b[1m \u001b[0m\u001b[1mOutput Shape          \u001b[0m\u001b[1m \u001b[0m┃\u001b[1m \u001b[0m\u001b[1m      Param #\u001b[0m\u001b[1m \u001b[0m┃\n",
       "┡━━━━━━━━━━━━━━━━━━━━━━━━━━━━━━━━━╇━━━━━━━━━━━━━━━━━━━━━━━━╇━━━━━━━━━━━━━━━┩\n",
       "│ embedding_4 (\u001b[38;5;33mEmbedding\u001b[0m)         │ (\u001b[38;5;34m32\u001b[0m, \u001b[38;5;34m500\u001b[0m, \u001b[38;5;34m128\u001b[0m)         │     \u001b[38;5;34m1,280,000\u001b[0m │\n",
       "├─────────────────────────────────┼────────────────────────┼───────────────┤\n",
       "│ simple_rnn_4 (\u001b[38;5;33mSimpleRNN\u001b[0m)        │ (\u001b[38;5;34m32\u001b[0m, \u001b[38;5;34m128\u001b[0m)              │        \u001b[38;5;34m32,896\u001b[0m │\n",
       "├─────────────────────────────────┼────────────────────────┼───────────────┤\n",
       "│ dense_4 (\u001b[38;5;33mDense\u001b[0m)                 │ (\u001b[38;5;34m32\u001b[0m, \u001b[38;5;34m1\u001b[0m)                │           \u001b[38;5;34m129\u001b[0m │\n",
       "└─────────────────────────────────┴────────────────────────┴───────────────┘\n"
      ]
     },
     "metadata": {},
     "output_type": "display_data"
    },
    {
     "data": {
      "text/html": [
       "<pre style=\"white-space:pre;overflow-x:auto;line-height:normal;font-family:Menlo,'DejaVu Sans Mono',consolas,'Courier New',monospace\"><span style=\"font-weight: bold\"> Total params: </span><span style=\"color: #00af00; text-decoration-color: #00af00\">1,313,027</span> (5.01 MB)\n",
       "</pre>\n"
      ],
      "text/plain": [
       "\u001b[1m Total params: \u001b[0m\u001b[38;5;34m1,313,027\u001b[0m (5.01 MB)\n"
      ]
     },
     "metadata": {},
     "output_type": "display_data"
    },
    {
     "data": {
      "text/html": [
       "<pre style=\"white-space:pre;overflow-x:auto;line-height:normal;font-family:Menlo,'DejaVu Sans Mono',consolas,'Courier New',monospace\"><span style=\"font-weight: bold\"> Trainable params: </span><span style=\"color: #00af00; text-decoration-color: #00af00\">1,313,025</span> (5.01 MB)\n",
       "</pre>\n"
      ],
      "text/plain": [
       "\u001b[1m Trainable params: \u001b[0m\u001b[38;5;34m1,313,025\u001b[0m (5.01 MB)\n"
      ]
     },
     "metadata": {},
     "output_type": "display_data"
    },
    {
     "data": {
      "text/html": [
       "<pre style=\"white-space:pre;overflow-x:auto;line-height:normal;font-family:Menlo,'DejaVu Sans Mono',consolas,'Courier New',monospace\"><span style=\"font-weight: bold\"> Non-trainable params: </span><span style=\"color: #00af00; text-decoration-color: #00af00\">0</span> (0.00 B)\n",
       "</pre>\n"
      ],
      "text/plain": [
       "\u001b[1m Non-trainable params: \u001b[0m\u001b[38;5;34m0\u001b[0m (0.00 B)\n"
      ]
     },
     "metadata": {},
     "output_type": "display_data"
    },
    {
     "data": {
      "text/html": [
       "<pre style=\"white-space:pre;overflow-x:auto;line-height:normal;font-family:Menlo,'DejaVu Sans Mono',consolas,'Courier New',monospace\"><span style=\"font-weight: bold\"> Optimizer params: </span><span style=\"color: #00af00; text-decoration-color: #00af00\">2</span> (12.00 B)\n",
       "</pre>\n"
      ],
      "text/plain": [
       "\u001b[1m Optimizer params: \u001b[0m\u001b[38;5;34m2\u001b[0m (12.00 B)\n"
      ]
     },
     "metadata": {},
     "output_type": "display_data"
    }
   ],
   "source": [
    "# Load the pre-trained model with ReLU activation\n",
    "model = load_model('simple_rnn_imdb.h5')\n",
    "model.summary()"
   ]
  },
  {
   "cell_type": "code",
   "execution_count": 72,
   "metadata": {},
   "outputs": [
    {
     "data": {
      "text/plain": [
       "[array([[ 1.00514196e-01,  5.54351173e-02, -5.18811122e-03, ...,\n",
       "         -1.65116191e-01,  1.79703847e-01, -4.51810621e-02],\n",
       "        [-6.74304320e-03,  2.29889005e-02,  6.91025332e-02, ...,\n",
       "          1.57353570e-04, -7.56985098e-02,  7.76688159e-02],\n",
       "        [-6.70211092e-02,  1.97859213e-01, -5.32391667e-03, ...,\n",
       "         -1.79554358e-01,  8.35462809e-02, -4.72369418e-02],\n",
       "        ...,\n",
       "        [-3.11573297e-02, -7.68274590e-02, -2.28307061e-02, ...,\n",
       "          6.08121557e-03, -2.31099669e-02, -2.93458197e-02],\n",
       "        [ 6.07162789e-02,  9.25906822e-02, -6.14601038e-02, ...,\n",
       "         -2.65308619e-02, -1.83838885e-02,  2.27912748e-03],\n",
       "        [-5.63997962e-02,  2.87331492e-02, -1.29968300e-01, ...,\n",
       "          1.39658600e-01,  4.89923805e-02, -1.49852857e-01]], dtype=float32),\n",
       " array([[-0.03302964,  0.01672091, -0.03450251, ...,  0.0012526 ,\n",
       "         -0.05180904,  0.08174776],\n",
       "        [ 0.05503185, -0.11980815,  0.0035681 , ..., -0.15816417,\n",
       "         -0.08775027,  0.02698893],\n",
       "        [-0.04272359,  0.02536128, -0.02793028, ...,  0.04529494,\n",
       "         -0.03441016,  0.05454534],\n",
       "        ...,\n",
       "        [-0.0353326 ,  0.00893469, -0.09778519, ...,  0.13977478,\n",
       "          0.04207785,  0.06960066],\n",
       "        [-0.0255048 ,  0.05637144,  0.10047445, ..., -0.04852964,\n",
       "         -0.06907777, -0.15225664],\n",
       "        [ 0.00962602, -0.00451854,  0.00631629, ...,  0.00032288,\n",
       "          0.0475698 , -0.13104013]], dtype=float32),\n",
       " array([[ 0.03588136, -0.12127929,  0.19670941, ..., -0.06137526,\n",
       "          0.00493395, -0.01974802],\n",
       "        [ 0.24443483, -0.00061081,  0.05199197, ..., -0.03753159,\n",
       "          0.13752848, -0.12335324],\n",
       "        [ 0.02328504,  0.08752572, -0.10800766, ..., -0.12044509,\n",
       "          0.01805741, -0.0197133 ],\n",
       "        ...,\n",
       "        [ 0.22214782, -0.01323783, -0.07981773, ...,  0.00049437,\n",
       "         -0.2000657 , -0.04139945],\n",
       "        [ 0.06180473, -0.10645533, -0.11296375, ..., -0.08524697,\n",
       "         -0.2447662 ,  0.10131051],\n",
       "        [-0.08682056,  0.18797143, -0.05194458, ...,  0.05283531,\n",
       "          0.11564749,  0.03689121]], dtype=float32),\n",
       " array([-9.76204034e-03, -4.44982350e-02, -5.22525944e-02, -7.35549405e-02,\n",
       "         7.67470192e-05, -2.06424445e-02,  3.45247649e-02, -7.32895657e-02,\n",
       "         6.12648623e-03,  1.31438589e-02, -4.51126471e-02, -3.05597350e-05,\n",
       "         1.31524168e-02, -4.51475270e-02, -5.68207614e-02, -7.76917413e-02,\n",
       "        -7.98645243e-02, -5.90781271e-02,  4.99841273e-02, -9.92343109e-03,\n",
       "         1.32449623e-02, -2.61639841e-02,  3.15380096e-02, -4.05735485e-02,\n",
       "         1.82941370e-02, -3.57858688e-02, -5.99275529e-02,  6.45911992e-02,\n",
       "        -1.06925182e-02, -2.74847215e-03, -4.16420437e-02,  1.30736362e-02,\n",
       "        -4.01346898e-03,  5.26893958e-02,  3.44897769e-02,  5.05744442e-02,\n",
       "        -4.94045392e-02, -8.30268785e-02, -5.76519519e-02,  4.52450709e-03,\n",
       "         1.00588864e-02,  1.75759271e-02, -3.56896296e-02, -5.94185553e-02,\n",
       "        -6.13693297e-02,  2.25755069e-02, -2.22308785e-02,  3.98180112e-02,\n",
       "         4.29861397e-02, -1.58456564e-02,  2.75493134e-02,  1.70012638e-02,\n",
       "        -4.77869958e-02, -4.08001393e-02, -2.46283729e-02, -3.69445458e-02,\n",
       "         5.81599660e-02, -5.00993505e-02,  2.14668531e-02,  4.34970297e-02,\n",
       "        -5.87466434e-02,  6.01729937e-02, -5.99772409e-02,  4.12074067e-02,\n",
       "         4.03644294e-02, -5.81476018e-02, -2.74844468e-02,  6.10040762e-02,\n",
       "        -7.75651932e-02,  9.06895380e-03,  9.76961572e-04, -1.51890460e-02,\n",
       "        -1.43872123e-04, -7.51408860e-02,  8.59294645e-03, -7.75589496e-02,\n",
       "        -7.73408860e-02, -3.58081679e-03,  1.40378075e-02, -4.62370366e-02,\n",
       "         2.55570505e-02,  1.92313679e-02, -7.55332932e-02, -7.13311275e-03,\n",
       "        -4.76976149e-02, -2.77498662e-02, -2.63615884e-02, -5.73817007e-02,\n",
       "        -5.95025867e-02, -4.60668430e-02, -1.75710488e-02, -2.49488861e-03,\n",
       "         2.68123168e-02,  2.79189683e-02,  1.93834659e-02,  5.23139015e-02,\n",
       "        -1.17922286e-02, -6.59035444e-02, -1.24676963e-02,  2.21750643e-02,\n",
       "         2.88656931e-02, -6.23829849e-02, -1.95750333e-02, -4.69019748e-02,\n",
       "        -6.83644563e-02,  1.13913557e-02, -4.14037853e-02, -1.25404382e-02,\n",
       "        -3.95852588e-02, -5.27647696e-02, -6.43451586e-02,  1.53445834e-02,\n",
       "        -4.42789719e-02, -5.27313538e-02,  3.99021357e-02,  1.86160039e-02,\n",
       "        -3.35028246e-02, -4.38182503e-02, -2.28055380e-02,  7.88727496e-03,\n",
       "        -3.82663012e-02,  4.62102704e-03, -3.65152769e-03,  3.19850147e-02,\n",
       "         2.21222416e-02, -5.52873760e-02, -5.28293476e-02, -1.86654534e-02],\n",
       "       dtype=float32),\n",
       " array([[-0.00960512],\n",
       "        [ 0.14910667],\n",
       "        [ 0.1446299 ],\n",
       "        [ 0.05402721],\n",
       "        [-0.06934112],\n",
       "        [-0.16785216],\n",
       "        [ 0.17549925],\n",
       "        [-0.04178112],\n",
       "        [ 0.20004934],\n",
       "        [ 0.00332304],\n",
       "        [ 0.02637088],\n",
       "        [-0.23623693],\n",
       "        [ 0.17912793],\n",
       "        [-0.14152586],\n",
       "        [-0.17246744],\n",
       "        [-0.07027288],\n",
       "        [ 0.20384818],\n",
       "        [ 0.11048919],\n",
       "        [ 0.06483312],\n",
       "        [ 0.25089985],\n",
       "        [-0.16408159],\n",
       "        [-0.12116844],\n",
       "        [ 0.35856402],\n",
       "        [ 0.13208602],\n",
       "        [ 0.06774283],\n",
       "        [-0.15114525],\n",
       "        [ 0.38599086],\n",
       "        [-0.00251013],\n",
       "        [-0.151001  ],\n",
       "        [ 0.03726189],\n",
       "        [-0.09286802],\n",
       "        [-0.05235975],\n",
       "        [-0.08174632],\n",
       "        [ 0.15777887],\n",
       "        [ 0.01119426],\n",
       "        [ 0.09350592],\n",
       "        [-0.07426647],\n",
       "        [ 0.28749877],\n",
       "        [-0.21109354],\n",
       "        [-0.42475212],\n",
       "        [-0.14626902],\n",
       "        [ 0.07318993],\n",
       "        [ 0.04292591],\n",
       "        [-0.21797526],\n",
       "        [-0.19665606],\n",
       "        [ 0.18097207],\n",
       "        [-0.15842444],\n",
       "        [ 0.15483496],\n",
       "        [ 0.0478687 ],\n",
       "        [ 0.25455263],\n",
       "        [ 0.22202997],\n",
       "        [ 0.20669779],\n",
       "        [-0.07619654],\n",
       "        [-0.10434925],\n",
       "        [-0.13562275],\n",
       "        [-0.1362706 ],\n",
       "        [-0.14034526],\n",
       "        [-0.27063027],\n",
       "        [ 0.18398377],\n",
       "        [-0.11391935],\n",
       "        [-0.07071214],\n",
       "        [ 0.11640066],\n",
       "        [ 0.20329207],\n",
       "        [-0.37957466],\n",
       "        [ 0.12461472],\n",
       "        [-0.1395871 ],\n",
       "        [ 0.22912665],\n",
       "        [ 0.31900442],\n",
       "        [-0.18356381],\n",
       "        [-0.17792816],\n",
       "        [-0.08421291],\n",
       "        [-0.22766215],\n",
       "        [ 0.22241095],\n",
       "        [-0.16432062],\n",
       "        [ 0.19685738],\n",
       "        [ 0.10943945],\n",
       "        [ 0.00161611],\n",
       "        [ 0.36148998],\n",
       "        [ 0.39220974],\n",
       "        [-0.40968752],\n",
       "        [-0.18309732],\n",
       "        [-0.2578852 ],\n",
       "        [ 0.10092822],\n",
       "        [-0.59922993],\n",
       "        [-0.37838346],\n",
       "        [ 0.18771401],\n",
       "        [-0.16203468],\n",
       "        [-0.03411555],\n",
       "        [-0.02203189],\n",
       "        [-0.04301006],\n",
       "        [-0.4374751 ],\n",
       "        [-0.10312128],\n",
       "        [-0.1313437 ],\n",
       "        [ 0.16473657],\n",
       "        [ 0.38381752],\n",
       "        [ 0.19611338],\n",
       "        [-0.03604184],\n",
       "        [-0.19846788],\n",
       "        [-0.03873936],\n",
       "        [-0.06370636],\n",
       "        [ 0.13033143],\n",
       "        [-0.10680965],\n",
       "        [ 0.1911735 ],\n",
       "        [-0.20817107],\n",
       "        [-0.1205501 ],\n",
       "        [-0.11941878],\n",
       "        [-0.17972735],\n",
       "        [-0.16632266],\n",
       "        [-0.2306596 ],\n",
       "        [ 0.13095844],\n",
       "        [-0.14694528],\n",
       "        [-0.610753  ],\n",
       "        [-0.02032026],\n",
       "        [-0.02527263],\n",
       "        [ 0.02003426],\n",
       "        [ 0.14082266],\n",
       "        [ 0.19983928],\n",
       "        [-0.31151742],\n",
       "        [ 0.12118091],\n",
       "        [ 0.11773551],\n",
       "        [ 0.17309521],\n",
       "        [ 0.09560688],\n",
       "        [ 0.02577055],\n",
       "        [-0.02100527],\n",
       "        [ 0.05850479],\n",
       "        [ 0.32874835],\n",
       "        [-0.06312068],\n",
       "        [-0.2515516 ]], dtype=float32),\n",
       " array([-0.11298238], dtype=float32)]"
      ]
     },
     "execution_count": 72,
     "metadata": {},
     "output_type": "execute_result"
    }
   ],
   "source": [
    "model.get_weights()"
   ]
  },
  {
   "cell_type": "code",
   "execution_count": 73,
   "metadata": {},
   "outputs": [],
   "source": [
    "# Step 2: Helper Functions\n",
    "# Function to decode reviews\n",
    "def decode_review(encoded_review):\n",
    "    return ' '.join([reverse_word_index.get(i - 3, '?') for i in encoded_review])\n",
    "\n",
    "# Function to preprocess user input\n",
    "def preprocess_text(text):\n",
    "    words = text.lower().split()\n",
    "    encoded_review = [word_index.get(word, 2) + 3 for word in words]\n",
    "    padded_review = sequence.pad_sequences([encoded_review], maxlen=500)\n",
    "    return padded_review"
   ]
  },
  {
   "cell_type": "code",
   "execution_count": 74,
   "metadata": {},
   "outputs": [],
   "source": [
    "### Prediction  function\n",
    "\n",
    "def predict_sentiment(review):\n",
    "    preprocessed_input=preprocess_text(review)\n",
    "\n",
    "    prediction=model.predict(preprocessed_input)\n",
    "\n",
    "    sentiment = 'Positive' if prediction[0][0] > 0.5 else 'Negative'\n",
    "    \n",
    "    return sentiment, prediction[0][0]\n",
    "\n"
   ]
  },
  {
   "cell_type": "code",
   "execution_count": 75,
   "metadata": {},
   "outputs": [
    {
     "name": "stdout",
     "output_type": "stream",
     "text": [
      "\u001b[1m1/1\u001b[0m \u001b[32m━━━━━━━━━━━━━━━━━━━━\u001b[0m\u001b[37m\u001b[0m \u001b[1m0s\u001b[0m 191ms/step\n",
      "Review: This movie was fantastic! The acting was great and the plot was thrilling.\n",
      "Sentiment: Positive\n",
      "Prediction Score: 0.9301424026489258\n"
     ]
    }
   ],
   "source": [
    "# Step 4: User Input and Prediction\n",
    "# Example review for prediction\n",
    "example_review = \"This movie was fantastic! The acting was great and the plot was thrilling.\"\n",
    "\n",
    "sentiment,score=predict_sentiment(example_review)\n",
    "\n",
    "print(f'Review: {example_review}')\n",
    "print(f'Sentiment: {sentiment}')\n",
    "print(f'Prediction Score: {score}')"
   ]
  },
  {
   "cell_type": "code",
   "execution_count": null,
   "metadata": {},
   "outputs": [],
   "source": []
  },
  {
   "cell_type": "code",
   "execution_count": null,
   "metadata": {},
   "outputs": [],
   "source": []
  },
  {
   "cell_type": "code",
   "execution_count": null,
   "metadata": {},
   "outputs": [],
   "source": []
  },
  {
   "cell_type": "code",
   "execution_count": null,
   "metadata": {},
   "outputs": [],
   "source": []
  }
 ],
 "metadata": {
  "kernelspec": {
   "display_name": "venv",
   "language": "python",
   "name": "python3"
  },
  "language_info": {
   "codemirror_mode": {
    "name": "ipython",
    "version": 3
   },
   "file_extension": ".py",
   "mimetype": "text/x-python",
   "name": "python",
   "nbconvert_exporter": "python",
   "pygments_lexer": "ipython3",
   "version": "3.11.0"
  }
 },
 "nbformat": 4,
 "nbformat_minor": 2
}
