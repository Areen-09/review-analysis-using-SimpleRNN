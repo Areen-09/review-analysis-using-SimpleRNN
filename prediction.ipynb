{
 "cells": [
  {
   "cell_type": "code",
   "execution_count": 4,
   "metadata": {},
   "outputs": [],
   "source": [
    "# Step 1: Import Libraries and Load the Model\n",
    "import numpy as np\n",
    "import tensorflow as tf\n",
    "from tensorflow.keras.datasets import imdb\n",
    "from tensorflow.keras.preprocessing import sequence\n",
    "from tensorflow.keras.models import load_model"
   ]
  },
  {
   "cell_type": "code",
   "execution_count": 5,
   "metadata": {},
   "outputs": [],
   "source": [
    "\n",
    "# Load the IMDB dataset word index\n",
    "word_index = imdb.get_word_index()\n",
    "reverse_word_index = {value: key for key, value in word_index.items()}"
   ]
  },
  {
   "cell_type": "code",
   "execution_count": 6,
   "metadata": {},
   "outputs": [
    {
     "name": "stderr",
     "output_type": "stream",
     "text": [
      "WARNING:absl:Compiled the loaded model, but the compiled metrics have yet to be built. `model.compile_metrics` will be empty until you train or evaluate the model.\n"
     ]
    },
    {
     "data": {
      "text/html": [
       "<pre style=\"white-space:pre;overflow-x:auto;line-height:normal;font-family:Menlo,'DejaVu Sans Mono',consolas,'Courier New',monospace\"><span style=\"font-weight: bold\">Model: \"sequential\"</span>\n",
       "</pre>\n"
      ],
      "text/plain": [
       "\u001b[1mModel: \"sequential\"\u001b[0m\n"
      ]
     },
     "metadata": {},
     "output_type": "display_data"
    },
    {
     "data": {
      "text/html": [
       "<pre style=\"white-space:pre;overflow-x:auto;line-height:normal;font-family:Menlo,'DejaVu Sans Mono',consolas,'Courier New',monospace\">┏━━━━━━━━━━━━━━━━━━━━━━━━━━━━━━━━━┳━━━━━━━━━━━━━━━━━━━━━━━━┳━━━━━━━━━━━━━━━┓\n",
       "┃<span style=\"font-weight: bold\"> Layer (type)                    </span>┃<span style=\"font-weight: bold\"> Output Shape           </span>┃<span style=\"font-weight: bold\">       Param # </span>┃\n",
       "┡━━━━━━━━━━━━━━━━━━━━━━━━━━━━━━━━━╇━━━━━━━━━━━━━━━━━━━━━━━━╇━━━━━━━━━━━━━━━┩\n",
       "│ embedding (<span style=\"color: #0087ff; text-decoration-color: #0087ff\">Embedding</span>)           │ (<span style=\"color: #00af00; text-decoration-color: #00af00\">32</span>, <span style=\"color: #00af00; text-decoration-color: #00af00\">500</span>, <span style=\"color: #00af00; text-decoration-color: #00af00\">128</span>)         │     <span style=\"color: #00af00; text-decoration-color: #00af00\">1,280,000</span> │\n",
       "├─────────────────────────────────┼────────────────────────┼───────────────┤\n",
       "│ simple_rnn (<span style=\"color: #0087ff; text-decoration-color: #0087ff\">SimpleRNN</span>)          │ (<span style=\"color: #00af00; text-decoration-color: #00af00\">32</span>, <span style=\"color: #00af00; text-decoration-color: #00af00\">128</span>)              │        <span style=\"color: #00af00; text-decoration-color: #00af00\">32,896</span> │\n",
       "├─────────────────────────────────┼────────────────────────┼───────────────┤\n",
       "│ dense (<span style=\"color: #0087ff; text-decoration-color: #0087ff\">Dense</span>)                   │ (<span style=\"color: #00af00; text-decoration-color: #00af00\">32</span>, <span style=\"color: #00af00; text-decoration-color: #00af00\">1</span>)                │           <span style=\"color: #00af00; text-decoration-color: #00af00\">129</span> │\n",
       "└─────────────────────────────────┴────────────────────────┴───────────────┘\n",
       "</pre>\n"
      ],
      "text/plain": [
       "┏━━━━━━━━━━━━━━━━━━━━━━━━━━━━━━━━━┳━━━━━━━━━━━━━━━━━━━━━━━━┳━━━━━━━━━━━━━━━┓\n",
       "┃\u001b[1m \u001b[0m\u001b[1mLayer (type)                   \u001b[0m\u001b[1m \u001b[0m┃\u001b[1m \u001b[0m\u001b[1mOutput Shape          \u001b[0m\u001b[1m \u001b[0m┃\u001b[1m \u001b[0m\u001b[1m      Param #\u001b[0m\u001b[1m \u001b[0m┃\n",
       "┡━━━━━━━━━━━━━━━━━━━━━━━━━━━━━━━━━╇━━━━━━━━━━━━━━━━━━━━━━━━╇━━━━━━━━━━━━━━━┩\n",
       "│ embedding (\u001b[38;5;33mEmbedding\u001b[0m)           │ (\u001b[38;5;34m32\u001b[0m, \u001b[38;5;34m500\u001b[0m, \u001b[38;5;34m128\u001b[0m)         │     \u001b[38;5;34m1,280,000\u001b[0m │\n",
       "├─────────────────────────────────┼────────────────────────┼───────────────┤\n",
       "│ simple_rnn (\u001b[38;5;33mSimpleRNN\u001b[0m)          │ (\u001b[38;5;34m32\u001b[0m, \u001b[38;5;34m128\u001b[0m)              │        \u001b[38;5;34m32,896\u001b[0m │\n",
       "├─────────────────────────────────┼────────────────────────┼───────────────┤\n",
       "│ dense (\u001b[38;5;33mDense\u001b[0m)                   │ (\u001b[38;5;34m32\u001b[0m, \u001b[38;5;34m1\u001b[0m)                │           \u001b[38;5;34m129\u001b[0m │\n",
       "└─────────────────────────────────┴────────────────────────┴───────────────┘\n"
      ]
     },
     "metadata": {},
     "output_type": "display_data"
    },
    {
     "data": {
      "text/html": [
       "<pre style=\"white-space:pre;overflow-x:auto;line-height:normal;font-family:Menlo,'DejaVu Sans Mono',consolas,'Courier New',monospace\"><span style=\"font-weight: bold\"> Total params: </span><span style=\"color: #00af00; text-decoration-color: #00af00\">1,313,027</span> (5.01 MB)\n",
       "</pre>\n"
      ],
      "text/plain": [
       "\u001b[1m Total params: \u001b[0m\u001b[38;5;34m1,313,027\u001b[0m (5.01 MB)\n"
      ]
     },
     "metadata": {},
     "output_type": "display_data"
    },
    {
     "data": {
      "text/html": [
       "<pre style=\"white-space:pre;overflow-x:auto;line-height:normal;font-family:Menlo,'DejaVu Sans Mono',consolas,'Courier New',monospace\"><span style=\"font-weight: bold\"> Trainable params: </span><span style=\"color: #00af00; text-decoration-color: #00af00\">1,313,025</span> (5.01 MB)\n",
       "</pre>\n"
      ],
      "text/plain": [
       "\u001b[1m Trainable params: \u001b[0m\u001b[38;5;34m1,313,025\u001b[0m (5.01 MB)\n"
      ]
     },
     "metadata": {},
     "output_type": "display_data"
    },
    {
     "data": {
      "text/html": [
       "<pre style=\"white-space:pre;overflow-x:auto;line-height:normal;font-family:Menlo,'DejaVu Sans Mono',consolas,'Courier New',monospace\"><span style=\"font-weight: bold\"> Non-trainable params: </span><span style=\"color: #00af00; text-decoration-color: #00af00\">0</span> (0.00 B)\n",
       "</pre>\n"
      ],
      "text/plain": [
       "\u001b[1m Non-trainable params: \u001b[0m\u001b[38;5;34m0\u001b[0m (0.00 B)\n"
      ]
     },
     "metadata": {},
     "output_type": "display_data"
    },
    {
     "data": {
      "text/html": [
       "<pre style=\"white-space:pre;overflow-x:auto;line-height:normal;font-family:Menlo,'DejaVu Sans Mono',consolas,'Courier New',monospace\"><span style=\"font-weight: bold\"> Optimizer params: </span><span style=\"color: #00af00; text-decoration-color: #00af00\">2</span> (12.00 B)\n",
       "</pre>\n"
      ],
      "text/plain": [
       "\u001b[1m Optimizer params: \u001b[0m\u001b[38;5;34m2\u001b[0m (12.00 B)\n"
      ]
     },
     "metadata": {},
     "output_type": "display_data"
    }
   ],
   "source": [
    "# Load the pre-trained model with ReLU activation\n",
    "model = load_model('simple_rnn_imdb.h5')\n",
    "model.summary()"
   ]
  },
  {
   "cell_type": "code",
   "execution_count": 7,
   "metadata": {},
   "outputs": [
    {
     "data": {
      "text/plain": [
       "[array([[ 0.12583704, -0.05828168,  0.16773432, ...,  0.1765461 ,\n",
       "          0.20604415, -0.14163898],\n",
       "        [-0.02240469, -0.01700193,  0.0273801 , ..., -0.04349002,\n",
       "          0.09693921,  0.07211144],\n",
       "        [ 0.06193925, -0.03419463,  0.1577018 , ..., -0.01798486,\n",
       "          0.10622665,  0.11538486],\n",
       "        ...,\n",
       "        [-0.00750504,  0.01995778,  0.00697851, ..., -0.00938023,\n",
       "          0.00666439,  0.07289658],\n",
       "        [-0.02032192, -0.03703773, -0.0183847 , ..., -0.00358267,\n",
       "         -0.01562215,  0.01911624],\n",
       "        [-0.07933176,  0.01967005, -0.04082861, ..., -0.00098728,\n",
       "         -0.07766885,  0.05386152]], dtype=float32),\n",
       " array([[ 0.02366734, -0.03075663,  0.09802362, ..., -0.04671571,\n",
       "         -0.05618774, -0.01880428],\n",
       "        [-0.04258463,  0.04421524, -0.15441374, ...,  0.17181522,\n",
       "         -0.07186113,  0.06726889],\n",
       "        [ 0.08781645,  0.06731299,  0.04666543, ..., -0.13525376,\n",
       "          0.0396192 , -0.11514881],\n",
       "        ...,\n",
       "        [-0.08374689, -0.05194122, -0.03715847, ..., -0.13696599,\n",
       "         -0.17049567,  0.12268534],\n",
       "        [ 0.16678847,  0.00214546,  0.04874853, ...,  0.18534656,\n",
       "          0.03962049, -0.02219767],\n",
       "        [-0.06604326,  0.05271093,  0.10929659, ...,  0.0022311 ,\n",
       "          0.0843659 ,  0.07442821]], dtype=float32),\n",
       " array([[ 0.07352104,  0.02147793,  0.15262146, ...,  0.02605941,\n",
       "          0.07705492,  0.04312183],\n",
       "        [-0.10256399, -0.02959104,  0.16117845, ..., -0.03472136,\n",
       "         -0.06812011, -0.12371575],\n",
       "        [ 0.02855814,  0.01739873, -0.01116093, ..., -0.08301613,\n",
       "          0.11116385,  0.04702516],\n",
       "        ...,\n",
       "        [-0.13000174, -0.00398858, -0.05191333, ..., -0.17804998,\n",
       "         -0.07677619, -0.06048273],\n",
       "        [-0.06962982,  0.11278294,  0.15394734, ...,  0.05192278,\n",
       "         -0.08813112,  0.16434397],\n",
       "        [-0.19915412, -0.13206802, -0.01200114, ..., -0.06881638,\n",
       "          0.06152736,  0.07260405]], dtype=float32),\n",
       " array([ 0.03406449,  0.01660257,  0.02083242,  0.01965102, -0.04644814,\n",
       "         0.02855247,  0.03231192, -0.01220416, -0.03245427, -0.01597208,\n",
       "         0.02889409,  0.00250168,  0.00055   , -0.03443996,  0.0150333 ,\n",
       "         0.0114628 ,  0.02140239, -0.00943605,  0.02668249, -0.05544873,\n",
       "        -0.04572035,  0.02385978, -0.04048037, -0.03520663, -0.03390432,\n",
       "        -0.00302611,  0.00895387,  0.01248989,  0.00224059, -0.00610818,\n",
       "         0.06823805, -0.03207269, -0.08651648, -0.07187401, -0.0359592 ,\n",
       "         0.03112948, -0.01926786,  0.03067686, -0.034898  , -0.0243414 ,\n",
       "         0.01900792,  0.0167575 ,  0.0137426 ,  0.00344802, -0.02345444,\n",
       "         0.07586467, -0.00462826,  0.04088188,  0.01919478,  0.0086518 ,\n",
       "        -0.00590305,  0.03470592, -0.04262454, -0.0305642 , -0.03499174,\n",
       "         0.03451604, -0.01479973, -0.03189964,  0.02088299,  0.03643723,\n",
       "         0.01536511, -0.04708254, -0.02272025,  0.01582163, -0.04509636,\n",
       "        -0.07129483, -0.04015709, -0.04489404,  0.02142488,  0.01803755,\n",
       "        -0.00649027,  0.03746297,  0.02269545,  0.01305685,  0.00814355,\n",
       "        -0.0177528 , -0.01042637, -0.04773339, -0.03798215,  0.02340402,\n",
       "        -0.0414584 ,  0.04636848,  0.05262557, -0.03513908, -0.02878217,\n",
       "        -0.07403897,  0.04930292,  0.01070917, -0.00852964,  0.02397707,\n",
       "         0.01094027,  0.01684923, -0.01150691,  0.01644885, -0.05849068,\n",
       "         0.0315556 ,  0.0155301 , -0.04958183, -0.06865892,  0.01843694,\n",
       "        -0.03973791,  0.05304727,  0.02399195,  0.01490095, -0.00627563,\n",
       "        -0.00536715, -0.00557698,  0.01220579,  0.00884271, -0.00971476,\n",
       "        -0.08068246, -0.01999   , -0.00528851,  0.00678144, -0.01955317,\n",
       "         0.04418423, -0.06548743,  0.06325546, -0.03200011,  0.01944922,\n",
       "        -0.05033723, -0.00411326, -0.0290025 ,  0.04273815,  0.02675908,\n",
       "        -0.04279394,  0.00298789, -0.01905816], dtype=float32),\n",
       " array([[ 8.03965256e-02],\n",
       "        [ 5.01576185e-01],\n",
       "        [-1.35384843e-01],\n",
       "        [-1.05914004e-01],\n",
       "        [-1.42929545e-02],\n",
       "        [ 5.95993139e-02],\n",
       "        [ 1.18692473e-01],\n",
       "        [-1.70074731e-01],\n",
       "        [ 1.75563738e-01],\n",
       "        [ 7.92571530e-02],\n",
       "        [ 1.24970891e-01],\n",
       "        [-2.13103637e-01],\n",
       "        [ 1.67693734e-01],\n",
       "        [-2.00797632e-01],\n",
       "        [ 1.52432337e-01],\n",
       "        [ 8.51179734e-02],\n",
       "        [-2.31596410e-01],\n",
       "        [ 2.31479719e-01],\n",
       "        [ 4.24342006e-01],\n",
       "        [-8.53013173e-02],\n",
       "        [-9.05732587e-02],\n",
       "        [ 6.01940614e-04],\n",
       "        [-3.27095538e-02],\n",
       "        [-1.30493462e-01],\n",
       "        [ 1.40487373e-01],\n",
       "        [-2.61910349e-01],\n",
       "        [ 7.36715719e-02],\n",
       "        [ 7.90436119e-02],\n",
       "        [-2.89196819e-01],\n",
       "        [ 1.77904278e-01],\n",
       "        [-1.96625277e-01],\n",
       "        [-4.30428796e-03],\n",
       "        [-4.05298583e-02],\n",
       "        [-1.09620050e-01],\n",
       "        [ 1.97134107e-01],\n",
       "        [-3.55261203e-04],\n",
       "        [-2.06797704e-01],\n",
       "        [ 1.28339261e-01],\n",
       "        [ 2.62393743e-01],\n",
       "        [-1.90908507e-01],\n",
       "        [ 1.12031624e-01],\n",
       "        [-1.19257294e-01],\n",
       "        [ 1.17171228e-01],\n",
       "        [ 1.55320778e-01],\n",
       "        [ 7.11474568e-02],\n",
       "        [-1.09797835e-01],\n",
       "        [ 1.12158895e-01],\n",
       "        [-1.79476514e-01],\n",
       "        [-1.09538071e-01],\n",
       "        [ 2.28785723e-01],\n",
       "        [ 4.21393523e-03],\n",
       "        [-3.29294545e-03],\n",
       "        [-1.82320729e-01],\n",
       "        [-1.28004014e-01],\n",
       "        [-4.92183566e-02],\n",
       "        [ 1.97200269e-01],\n",
       "        [ 1.83396846e-01],\n",
       "        [ 5.91903150e-01],\n",
       "        [-1.31638795e-01],\n",
       "        [-3.09588462e-01],\n",
       "        [ 2.78641909e-01],\n",
       "        [-1.36742190e-01],\n",
       "        [-1.16067633e-01],\n",
       "        [-1.54675499e-01],\n",
       "        [-2.28747934e-01],\n",
       "        [ 1.05794646e-01],\n",
       "        [ 1.07092768e-01],\n",
       "        [ 1.83709413e-02],\n",
       "        [-5.70292287e-02],\n",
       "        [-1.02993928e-01],\n",
       "        [ 1.02221161e-01],\n",
       "        [ 1.68370381e-02],\n",
       "        [-2.29131669e-01],\n",
       "        [-1.31409675e-01],\n",
       "        [-2.57914871e-01],\n",
       "        [ 1.95640028e-01],\n",
       "        [ 1.40753821e-01],\n",
       "        [-8.01554769e-02],\n",
       "        [ 1.02230981e-02],\n",
       "        [-1.72570154e-01],\n",
       "        [ 1.88218765e-02],\n",
       "        [-2.10301094e-02],\n",
       "        [ 9.64398608e-02],\n",
       "        [-8.43613446e-02],\n",
       "        [ 2.09903017e-01],\n",
       "        [ 1.95583940e-01],\n",
       "        [ 1.21526681e-01],\n",
       "        [ 2.15662643e-01],\n",
       "        [-3.02193820e-01],\n",
       "        [-2.76296381e-02],\n",
       "        [-1.99787840e-01],\n",
       "        [-2.26316988e-01],\n",
       "        [-1.89009801e-01],\n",
       "        [ 3.97759862e-02],\n",
       "        [ 1.60292238e-01],\n",
       "        [-7.14906678e-02],\n",
       "        [ 3.45428251e-02],\n",
       "        [-2.15519190e-01],\n",
       "        [-3.75683643e-02],\n",
       "        [-6.25598356e-02],\n",
       "        [-1.14446059e-01],\n",
       "        [-1.93318710e-01],\n",
       "        [ 3.84613052e-02],\n",
       "        [-1.31783530e-01],\n",
       "        [-1.54593373e-02],\n",
       "        [ 1.29187509e-01],\n",
       "        [ 2.06985176e-01],\n",
       "        [ 3.81547175e-02],\n",
       "        [ 1.31651297e-01],\n",
       "        [-9.06578451e-02],\n",
       "        [ 1.73569188e-01],\n",
       "        [-2.00542491e-02],\n",
       "        [-1.72886968e-01],\n",
       "        [-8.60130787e-02],\n",
       "        [ 3.20343003e-02],\n",
       "        [-3.18210796e-02],\n",
       "        [ 1.26345456e-01],\n",
       "        [ 2.53961533e-01],\n",
       "        [ 1.76829129e-01],\n",
       "        [-1.24466307e-01],\n",
       "        [ 7.05953613e-02],\n",
       "        [ 9.36480343e-01],\n",
       "        [ 1.15240976e-01],\n",
       "        [ 1.35046706e-01],\n",
       "        [-6.32758066e-02],\n",
       "        [-6.03486262e-02],\n",
       "        [ 2.51857102e-01],\n",
       "        [-1.20257311e-01]], dtype=float32),\n",
       " array([0.84933025], dtype=float32)]"
      ]
     },
     "execution_count": 7,
     "metadata": {},
     "output_type": "execute_result"
    }
   ],
   "source": [
    "model.get_weights()"
   ]
  },
  {
   "cell_type": "code",
   "execution_count": 8,
   "metadata": {},
   "outputs": [],
   "source": [
    "# Step 2: Helper Functions\n",
    "# Function to decode reviews\n",
    "def decode_review(encoded_review):\n",
    "    return ' '.join([reverse_word_index.get(i - 3, '?') for i in encoded_review])\n",
    "\n",
    "# Function to preprocess user input\n",
    "def preprocess_text(text):\n",
    "    words = text.lower().split()\n",
    "    encoded_review = [word_index.get(word, 2) + 3 for word in words]\n",
    "    padded_review = sequence.pad_sequences([encoded_review], maxlen=500)\n",
    "    return padded_review"
   ]
  },
  {
   "cell_type": "code",
   "execution_count": 9,
   "metadata": {},
   "outputs": [],
   "source": [
    "### Prediction  function\n",
    "\n",
    "def predict_sentiment(review):\n",
    "    preprocessed_input=preprocess_text(review)\n",
    "\n",
    "    prediction=model.predict(preprocessed_input)\n",
    "\n",
    "    sentiment = 'Positive' if prediction[0][0] > 0.5 else 'Negative'\n",
    "    \n",
    "    return sentiment, prediction[0][0]\n",
    "\n"
   ]
  },
  {
   "cell_type": "code",
   "execution_count": 10,
   "metadata": {},
   "outputs": [
    {
     "name": "stdout",
     "output_type": "stream",
     "text": [
      "\u001b[1m1/1\u001b[0m \u001b[32m━━━━━━━━━━━━━━━━━━━━\u001b[0m\u001b[37m\u001b[0m \u001b[1m0s\u001b[0m 279ms/step\n",
      "Review: This movie was fantastic! The acting was great and the plot was thrilling.\n",
      "Sentiment: Positive\n",
      "Prediction Score: 0.6820873022079468\n"
     ]
    }
   ],
   "source": [
    "# Step 4: User Input and Prediction\n",
    "# Example review for prediction\n",
    "example_review = \"This movie was fantastic! The acting was great and the plot was thrilling.\"\n",
    "\n",
    "sentiment,score=predict_sentiment(example_review)\n",
    "\n",
    "print(f'Review: {example_review}')\n",
    "print(f'Sentiment: {sentiment}')\n",
    "print(f'Prediction Score: {score}')"
   ]
  },
  {
   "cell_type": "code",
   "execution_count": null,
   "metadata": {},
   "outputs": [],
   "source": []
  },
  {
   "cell_type": "code",
   "execution_count": null,
   "metadata": {},
   "outputs": [],
   "source": []
  },
  {
   "cell_type": "code",
   "execution_count": null,
   "metadata": {},
   "outputs": [],
   "source": []
  },
  {
   "cell_type": "code",
   "execution_count": null,
   "metadata": {},
   "outputs": [],
   "source": []
  }
 ],
 "metadata": {
  "kernelspec": {
   "display_name": "venv",
   "language": "python",
   "name": "python3"
  },
  "language_info": {
   "codemirror_mode": {
    "name": "ipython",
    "version": 3
   },
   "file_extension": ".py",
   "mimetype": "text/x-python",
   "name": "python",
   "nbconvert_exporter": "python",
   "pygments_lexer": "ipython3",
   "version": "3.11.0"
  }
 },
 "nbformat": 4,
 "nbformat_minor": 2
}
