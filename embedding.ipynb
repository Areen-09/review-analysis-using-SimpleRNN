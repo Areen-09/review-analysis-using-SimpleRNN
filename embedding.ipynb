{
 "cells": [
  {
   "cell_type": "code",
   "execution_count": 16,
   "metadata": {},
   "outputs": [],
   "source": [
    "from tensorflow.keras.preprocessing.text import one_hot"
   ]
  },
  {
   "cell_type": "code",
   "execution_count": 17,
   "metadata": {},
   "outputs": [],
   "source": [
    "### sentences\n",
    "sent=[  'the glass of milk',\n",
    "     'the glass of juice',\n",
    "     'the cup of tea',\n",
    "    'I am a good boy',\n",
    "     'I am a good developer',\n",
    "     'understand the meaning of words',\n",
    "     'your videos are good',]"
   ]
  },
  {
   "cell_type": "code",
   "execution_count": 18,
   "metadata": {},
   "outputs": [
    {
     "data": {
      "text/plain": [
       "['the glass of milk',\n",
       " 'the glass of juice',\n",
       " 'the cup of tea',\n",
       " 'I am a good boy',\n",
       " 'I am a good developer',\n",
       " 'understand the meaning of words',\n",
       " 'your videos are good']"
      ]
     },
     "execution_count": 18,
     "metadata": {},
     "output_type": "execute_result"
    }
   ],
   "source": [
    "sent"
   ]
  },
  {
   "cell_type": "code",
   "execution_count": 19,
   "metadata": {},
   "outputs": [],
   "source": [
    "## Define the vocabulary size\n",
    "voc_size=10000"
   ]
  },
  {
   "cell_type": "code",
   "execution_count": 20,
   "metadata": {},
   "outputs": [
    {
     "data": {
      "text/plain": [
       "[[498, 9812, 4545, 6879],\n",
       " [498, 9812, 4545, 2449],\n",
       " [498, 4421, 4545, 5863],\n",
       " [5580, 942, 6718, 9383, 5985],\n",
       " [5580, 942, 6718, 9383, 1634],\n",
       " [4039, 498, 7382, 4545, 5142],\n",
       " [4600, 3181, 9648, 9383]]"
      ]
     },
     "execution_count": 20,
     "metadata": {},
     "output_type": "execute_result"
    }
   ],
   "source": [
    "### One Hot Representation\n",
    "one_hot_repr=[one_hot(words,voc_size)for words in sent]\n",
    "one_hot_repr"
   ]
  },
  {
   "cell_type": "code",
   "execution_count": 21,
   "metadata": {},
   "outputs": [],
   "source": [
    "## word Embedding Representation\n",
    "\n",
    "from tensorflow.keras.layers import Embedding\n",
    "#from tensorflow.keras.processing.sequence import pad_sequences\n",
    "from tensorflow.keras.utils import pad_sequences\n",
    "from tensorflow.keras.models import Sequential"
   ]
  },
  {
   "cell_type": "code",
   "execution_count": 22,
   "metadata": {},
   "outputs": [],
   "source": [
    "import numpy as np"
   ]
  },
  {
   "cell_type": "code",
   "execution_count": 23,
   "metadata": {},
   "outputs": [
    {
     "name": "stdout",
     "output_type": "stream",
     "text": [
      "[[   0    0    0    0  498 9812 4545 6879]\n",
      " [   0    0    0    0  498 9812 4545 2449]\n",
      " [   0    0    0    0  498 4421 4545 5863]\n",
      " [   0    0    0 5580  942 6718 9383 5985]\n",
      " [   0    0    0 5580  942 6718 9383 1634]\n",
      " [   0    0    0 4039  498 7382 4545 5142]\n",
      " [   0    0    0    0 4600 3181 9648 9383]]\n"
     ]
    }
   ],
   "source": [
    "sent_length=8\n",
    "embedded_docs=pad_sequences(one_hot_repr,padding='pre',maxlen=sent_length)\n",
    "print(embedded_docs)"
   ]
  },
  {
   "cell_type": "code",
   "execution_count": 24,
   "metadata": {},
   "outputs": [],
   "source": [
    "## feature representation\n",
    "dim=10"
   ]
  },
  {
   "cell_type": "code",
   "execution_count": 25,
   "metadata": {},
   "outputs": [],
   "source": [
    "model=Sequential()\n",
    "model.add(Embedding(voc_size,dim))\n",
    "model.compile('adam','mse')"
   ]
  },
  {
   "cell_type": "code",
   "execution_count": 26,
   "metadata": {},
   "outputs": [
    {
     "data": {
      "text/html": [
       "<pre style=\"white-space:pre;overflow-x:auto;line-height:normal;font-family:Menlo,'DejaVu Sans Mono',consolas,'Courier New',monospace\"><span style=\"font-weight: bold\">Model: \"sequential_2\"</span>\n",
       "</pre>\n"
      ],
      "text/plain": [
       "\u001b[1mModel: \"sequential_2\"\u001b[0m\n"
      ]
     },
     "metadata": {},
     "output_type": "display_data"
    },
    {
     "data": {
      "text/html": [
       "<pre style=\"white-space:pre;overflow-x:auto;line-height:normal;font-family:Menlo,'DejaVu Sans Mono',consolas,'Courier New',monospace\">┏━━━━━━━━━━━━━━━━━━━━━━━━━━━━━━━━━┳━━━━━━━━━━━━━━━━━━━━━━━━┳━━━━━━━━━━━━━━━┓\n",
       "┃<span style=\"font-weight: bold\"> Layer (type)                    </span>┃<span style=\"font-weight: bold\"> Output Shape           </span>┃<span style=\"font-weight: bold\">       Param # </span>┃\n",
       "┡━━━━━━━━━━━━━━━━━━━━━━━━━━━━━━━━━╇━━━━━━━━━━━━━━━━━━━━━━━━╇━━━━━━━━━━━━━━━┩\n",
       "│ embedding_2 (<span style=\"color: #0087ff; text-decoration-color: #0087ff\">Embedding</span>)         │ ?                      │   <span style=\"color: #00af00; text-decoration-color: #00af00\">0</span> (unbuilt) │\n",
       "└─────────────────────────────────┴────────────────────────┴───────────────┘\n",
       "</pre>\n"
      ],
      "text/plain": [
       "┏━━━━━━━━━━━━━━━━━━━━━━━━━━━━━━━━━┳━━━━━━━━━━━━━━━━━━━━━━━━┳━━━━━━━━━━━━━━━┓\n",
       "┃\u001b[1m \u001b[0m\u001b[1mLayer (type)                   \u001b[0m\u001b[1m \u001b[0m┃\u001b[1m \u001b[0m\u001b[1mOutput Shape          \u001b[0m\u001b[1m \u001b[0m┃\u001b[1m \u001b[0m\u001b[1m      Param #\u001b[0m\u001b[1m \u001b[0m┃\n",
       "┡━━━━━━━━━━━━━━━━━━━━━━━━━━━━━━━━━╇━━━━━━━━━━━━━━━━━━━━━━━━╇━━━━━━━━━━━━━━━┩\n",
       "│ embedding_2 (\u001b[38;5;33mEmbedding\u001b[0m)         │ ?                      │   \u001b[38;5;34m0\u001b[0m (unbuilt) │\n",
       "└─────────────────────────────────┴────────────────────────┴───────────────┘\n"
      ]
     },
     "metadata": {},
     "output_type": "display_data"
    },
    {
     "data": {
      "text/html": [
       "<pre style=\"white-space:pre;overflow-x:auto;line-height:normal;font-family:Menlo,'DejaVu Sans Mono',consolas,'Courier New',monospace\"><span style=\"font-weight: bold\"> Total params: </span><span style=\"color: #00af00; text-decoration-color: #00af00\">0</span> (0.00 B)\n",
       "</pre>\n"
      ],
      "text/plain": [
       "\u001b[1m Total params: \u001b[0m\u001b[38;5;34m0\u001b[0m (0.00 B)\n"
      ]
     },
     "metadata": {},
     "output_type": "display_data"
    },
    {
     "data": {
      "text/html": [
       "<pre style=\"white-space:pre;overflow-x:auto;line-height:normal;font-family:Menlo,'DejaVu Sans Mono',consolas,'Courier New',monospace\"><span style=\"font-weight: bold\"> Trainable params: </span><span style=\"color: #00af00; text-decoration-color: #00af00\">0</span> (0.00 B)\n",
       "</pre>\n"
      ],
      "text/plain": [
       "\u001b[1m Trainable params: \u001b[0m\u001b[38;5;34m0\u001b[0m (0.00 B)\n"
      ]
     },
     "metadata": {},
     "output_type": "display_data"
    },
    {
     "data": {
      "text/html": [
       "<pre style=\"white-space:pre;overflow-x:auto;line-height:normal;font-family:Menlo,'DejaVu Sans Mono',consolas,'Courier New',monospace\"><span style=\"font-weight: bold\"> Non-trainable params: </span><span style=\"color: #00af00; text-decoration-color: #00af00\">0</span> (0.00 B)\n",
       "</pre>\n"
      ],
      "text/plain": [
       "\u001b[1m Non-trainable params: \u001b[0m\u001b[38;5;34m0\u001b[0m (0.00 B)\n"
      ]
     },
     "metadata": {},
     "output_type": "display_data"
    }
   ],
   "source": [
    "model.summary()"
   ]
  },
  {
   "cell_type": "code",
   "execution_count": 27,
   "metadata": {},
   "outputs": [
    {
     "name": "stdout",
     "output_type": "stream",
     "text": [
      "\u001b[1m1/1\u001b[0m \u001b[32m━━━━━━━━━━━━━━━━━━━━\u001b[0m\u001b[37m\u001b[0m \u001b[1m0s\u001b[0m 118ms/step\n"
     ]
    },
    {
     "data": {
      "text/plain": [
       "array([[[ 0.04440055,  0.00217021,  0.01292335, -0.02686054,\n",
       "          0.02671142,  0.03286796, -0.04619718,  0.02665149,\n",
       "          0.03590291,  0.04266173],\n",
       "        [ 0.04440055,  0.00217021,  0.01292335, -0.02686054,\n",
       "          0.02671142,  0.03286796, -0.04619718,  0.02665149,\n",
       "          0.03590291,  0.04266173],\n",
       "        [ 0.04440055,  0.00217021,  0.01292335, -0.02686054,\n",
       "          0.02671142,  0.03286796, -0.04619718,  0.02665149,\n",
       "          0.03590291,  0.04266173],\n",
       "        [ 0.04440055,  0.00217021,  0.01292335, -0.02686054,\n",
       "          0.02671142,  0.03286796, -0.04619718,  0.02665149,\n",
       "          0.03590291,  0.04266173],\n",
       "        [-0.0003328 , -0.04943242, -0.01261348, -0.02313155,\n",
       "          0.00335573, -0.02156523, -0.02135499, -0.01746728,\n",
       "          0.03226231,  0.02085773],\n",
       "        [ 0.02376716,  0.04685081,  0.00863222,  0.00026296,\n",
       "          0.04371711, -0.04871918,  0.04122856, -0.03734728,\n",
       "         -0.02391369,  0.03209991],\n",
       "        [-0.02237817,  0.01677897, -0.0469715 ,  0.0139713 ,\n",
       "         -0.02638457, -0.04934641,  0.0469282 ,  0.04394275,\n",
       "          0.04800742,  0.03919962],\n",
       "        [-0.03250803, -0.01462401,  0.00125413, -0.00530662,\n",
       "          0.04225354, -0.01986976, -0.01678604, -0.04700455,\n",
       "          0.00218488,  0.04161494]],\n",
       "\n",
       "       [[ 0.04440055,  0.00217021,  0.01292335, -0.02686054,\n",
       "          0.02671142,  0.03286796, -0.04619718,  0.02665149,\n",
       "          0.03590291,  0.04266173],\n",
       "        [ 0.04440055,  0.00217021,  0.01292335, -0.02686054,\n",
       "          0.02671142,  0.03286796, -0.04619718,  0.02665149,\n",
       "          0.03590291,  0.04266173],\n",
       "        [ 0.04440055,  0.00217021,  0.01292335, -0.02686054,\n",
       "          0.02671142,  0.03286796, -0.04619718,  0.02665149,\n",
       "          0.03590291,  0.04266173],\n",
       "        [ 0.04440055,  0.00217021,  0.01292335, -0.02686054,\n",
       "          0.02671142,  0.03286796, -0.04619718,  0.02665149,\n",
       "          0.03590291,  0.04266173],\n",
       "        [-0.0003328 , -0.04943242, -0.01261348, -0.02313155,\n",
       "          0.00335573, -0.02156523, -0.02135499, -0.01746728,\n",
       "          0.03226231,  0.02085773],\n",
       "        [ 0.02376716,  0.04685081,  0.00863222,  0.00026296,\n",
       "          0.04371711, -0.04871918,  0.04122856, -0.03734728,\n",
       "         -0.02391369,  0.03209991],\n",
       "        [-0.02237817,  0.01677897, -0.0469715 ,  0.0139713 ,\n",
       "         -0.02638457, -0.04934641,  0.0469282 ,  0.04394275,\n",
       "          0.04800742,  0.03919962],\n",
       "        [-0.0078732 ,  0.04849559, -0.03237747,  0.02733887,\n",
       "          0.00493149, -0.00272075,  0.0313652 ,  0.0458721 ,\n",
       "          0.03823045,  0.0263917 ]],\n",
       "\n",
       "       [[ 0.04440055,  0.00217021,  0.01292335, -0.02686054,\n",
       "          0.02671142,  0.03286796, -0.04619718,  0.02665149,\n",
       "          0.03590291,  0.04266173],\n",
       "        [ 0.04440055,  0.00217021,  0.01292335, -0.02686054,\n",
       "          0.02671142,  0.03286796, -0.04619718,  0.02665149,\n",
       "          0.03590291,  0.04266173],\n",
       "        [ 0.04440055,  0.00217021,  0.01292335, -0.02686054,\n",
       "          0.02671142,  0.03286796, -0.04619718,  0.02665149,\n",
       "          0.03590291,  0.04266173],\n",
       "        [ 0.04440055,  0.00217021,  0.01292335, -0.02686054,\n",
       "          0.02671142,  0.03286796, -0.04619718,  0.02665149,\n",
       "          0.03590291,  0.04266173],\n",
       "        [-0.0003328 , -0.04943242, -0.01261348, -0.02313155,\n",
       "          0.00335573, -0.02156523, -0.02135499, -0.01746728,\n",
       "          0.03226231,  0.02085773],\n",
       "        [-0.04000642,  0.04096272, -0.04006582,  0.01703129,\n",
       "         -0.02364379, -0.03689293, -0.03020326,  0.03855927,\n",
       "         -0.04571864, -0.03079079],\n",
       "        [-0.02237817,  0.01677897, -0.0469715 ,  0.0139713 ,\n",
       "         -0.02638457, -0.04934641,  0.0469282 ,  0.04394275,\n",
       "          0.04800742,  0.03919962],\n",
       "        [ 0.00302112, -0.02090446,  0.02674342, -0.00691372,\n",
       "         -0.02927663, -0.00087445,  0.02873785, -0.03931959,\n",
       "          0.02025784,  0.03416356]],\n",
       "\n",
       "       [[ 0.04440055,  0.00217021,  0.01292335, -0.02686054,\n",
       "          0.02671142,  0.03286796, -0.04619718,  0.02665149,\n",
       "          0.03590291,  0.04266173],\n",
       "        [ 0.04440055,  0.00217021,  0.01292335, -0.02686054,\n",
       "          0.02671142,  0.03286796, -0.04619718,  0.02665149,\n",
       "          0.03590291,  0.04266173],\n",
       "        [ 0.04440055,  0.00217021,  0.01292335, -0.02686054,\n",
       "          0.02671142,  0.03286796, -0.04619718,  0.02665149,\n",
       "          0.03590291,  0.04266173],\n",
       "        [ 0.04772008, -0.04938018,  0.04816521,  0.04676112,\n",
       "          0.00172125, -0.04094603,  0.00692004, -0.00952023,\n",
       "         -0.01925553,  0.0188277 ],\n",
       "        [ 0.04746795,  0.00565636,  0.00645323,  0.04135856,\n",
       "         -0.02594099, -0.00245689,  0.04745218,  0.00734489,\n",
       "          0.01537584, -0.04375881],\n",
       "        [-0.04431384,  0.01077007, -0.00137623,  0.01928563,\n",
       "          0.00549415, -0.03724525,  0.00497629, -0.04380702,\n",
       "          0.01677019,  0.02569223],\n",
       "        [-0.03049827,  0.03163658,  0.04600227, -0.02430506,\n",
       "          0.01940669,  0.02286556,  0.02562932,  0.02178023,\n",
       "         -0.02273403,  0.04032466],\n",
       "        [ 0.01244919, -0.00503554, -0.04180641, -0.004198  ,\n",
       "         -0.04790242,  0.04454197, -0.01545918,  0.00311121,\n",
       "         -0.01475022, -0.0424742 ]],\n",
       "\n",
       "       [[ 0.04440055,  0.00217021,  0.01292335, -0.02686054,\n",
       "          0.02671142,  0.03286796, -0.04619718,  0.02665149,\n",
       "          0.03590291,  0.04266173],\n",
       "        [ 0.04440055,  0.00217021,  0.01292335, -0.02686054,\n",
       "          0.02671142,  0.03286796, -0.04619718,  0.02665149,\n",
       "          0.03590291,  0.04266173],\n",
       "        [ 0.04440055,  0.00217021,  0.01292335, -0.02686054,\n",
       "          0.02671142,  0.03286796, -0.04619718,  0.02665149,\n",
       "          0.03590291,  0.04266173],\n",
       "        [ 0.04772008, -0.04938018,  0.04816521,  0.04676112,\n",
       "          0.00172125, -0.04094603,  0.00692004, -0.00952023,\n",
       "         -0.01925553,  0.0188277 ],\n",
       "        [ 0.04746795,  0.00565636,  0.00645323,  0.04135856,\n",
       "         -0.02594099, -0.00245689,  0.04745218,  0.00734489,\n",
       "          0.01537584, -0.04375881],\n",
       "        [-0.04431384,  0.01077007, -0.00137623,  0.01928563,\n",
       "          0.00549415, -0.03724525,  0.00497629, -0.04380702,\n",
       "          0.01677019,  0.02569223],\n",
       "        [-0.03049827,  0.03163658,  0.04600227, -0.02430506,\n",
       "          0.01940669,  0.02286556,  0.02562932,  0.02178023,\n",
       "         -0.02273403,  0.04032466],\n",
       "        [ 0.0236312 , -0.00874215,  0.00563283, -0.00229149,\n",
       "         -0.03291619,  0.03472177, -0.00983255,  0.01962534,\n",
       "          0.02400685,  0.04544688]],\n",
       "\n",
       "       [[ 0.04440055,  0.00217021,  0.01292335, -0.02686054,\n",
       "          0.02671142,  0.03286796, -0.04619718,  0.02665149,\n",
       "          0.03590291,  0.04266173],\n",
       "        [ 0.04440055,  0.00217021,  0.01292335, -0.02686054,\n",
       "          0.02671142,  0.03286796, -0.04619718,  0.02665149,\n",
       "          0.03590291,  0.04266173],\n",
       "        [ 0.04440055,  0.00217021,  0.01292335, -0.02686054,\n",
       "          0.02671142,  0.03286796, -0.04619718,  0.02665149,\n",
       "          0.03590291,  0.04266173],\n",
       "        [-0.01415372,  0.04452361,  0.04427106, -0.02470379,\n",
       "         -0.02450336, -0.00901947, -0.01366479,  0.00366074,\n",
       "          0.02583995, -0.03217075],\n",
       "        [-0.0003328 , -0.04943242, -0.01261348, -0.02313155,\n",
       "          0.00335573, -0.02156523, -0.02135499, -0.01746728,\n",
       "          0.03226231,  0.02085773],\n",
       "        [-0.04004817,  0.0268309 ,  0.03573749,  0.02046527,\n",
       "          0.01455856, -0.04155543, -0.03883451,  0.01779357,\n",
       "         -0.04047837,  0.0390741 ],\n",
       "        [-0.02237817,  0.01677897, -0.0469715 ,  0.0139713 ,\n",
       "         -0.02638457, -0.04934641,  0.0469282 ,  0.04394275,\n",
       "          0.04800742,  0.03919962],\n",
       "        [-0.04099827, -0.03816447,  0.02824515, -0.03810613,\n",
       "          0.04962163,  0.04988884, -0.00771987, -0.03755672,\n",
       "          0.0437974 , -0.0217956 ]],\n",
       "\n",
       "       [[ 0.04440055,  0.00217021,  0.01292335, -0.02686054,\n",
       "          0.02671142,  0.03286796, -0.04619718,  0.02665149,\n",
       "          0.03590291,  0.04266173],\n",
       "        [ 0.04440055,  0.00217021,  0.01292335, -0.02686054,\n",
       "          0.02671142,  0.03286796, -0.04619718,  0.02665149,\n",
       "          0.03590291,  0.04266173],\n",
       "        [ 0.04440055,  0.00217021,  0.01292335, -0.02686054,\n",
       "          0.02671142,  0.03286796, -0.04619718,  0.02665149,\n",
       "          0.03590291,  0.04266173],\n",
       "        [ 0.04440055,  0.00217021,  0.01292335, -0.02686054,\n",
       "          0.02671142,  0.03286796, -0.04619718,  0.02665149,\n",
       "          0.03590291,  0.04266173],\n",
       "        [ 0.04670102, -0.03396738,  0.02678886, -0.04073795,\n",
       "          0.02084478,  0.00663266, -0.03611419, -0.01631687,\n",
       "          0.04958687, -0.00989226],\n",
       "        [-0.01264336, -0.01912901,  0.01379501,  0.001314  ,\n",
       "          0.01630381, -0.02775091, -0.00825556, -0.00279566,\n",
       "         -0.0009697 ,  0.01077116],\n",
       "        [-0.01434482, -0.00255492, -0.04509934,  0.03633222,\n",
       "          0.00716   , -0.02555056, -0.03225396,  0.03794396,\n",
       "         -0.01163067,  0.02122628],\n",
       "        [-0.03049827,  0.03163658,  0.04600227, -0.02430506,\n",
       "          0.01940669,  0.02286556,  0.02562932,  0.02178023,\n",
       "         -0.02273403,  0.04032466]]], dtype=float32)"
      ]
     },
     "execution_count": 27,
     "metadata": {},
     "output_type": "execute_result"
    }
   ],
   "source": [
    "model.predict(embedded_docs)"
   ]
  },
  {
   "cell_type": "code",
   "execution_count": 28,
   "metadata": {},
   "outputs": [
    {
     "data": {
      "text/plain": [
       "array([   0,    0,    0,    0,  498, 9812, 4545, 6879])"
      ]
     },
     "execution_count": 28,
     "metadata": {},
     "output_type": "execute_result"
    }
   ],
   "source": [
    "embedded_docs[0]"
   ]
  },
  {
   "cell_type": "code",
   "execution_count": 29,
   "metadata": {},
   "outputs": [
    {
     "ename": "ValueError",
     "evalue": "Exception encountered when calling Sequential.call().\n\n\u001b[1mCannot take the length of shape with unknown rank.\u001b[0m\n\nArguments received by Sequential.call():\n  • inputs=tf.Tensor(shape=<unknown>, dtype=int32)\n  • training=False\n  • mask=None",
     "output_type": "error",
     "traceback": [
      "\u001b[1;31m---------------------------------------------------------------------------\u001b[0m",
      "\u001b[1;31mValueError\u001b[0m                                Traceback (most recent call last)",
      "Cell \u001b[1;32mIn[29], line 1\u001b[0m\n\u001b[1;32m----> 1\u001b[0m \u001b[43mmodel\u001b[49m\u001b[38;5;241;43m.\u001b[39;49m\u001b[43mpredict\u001b[49m\u001b[43m(\u001b[49m\u001b[43membedded_docs\u001b[49m\u001b[43m[\u001b[49m\u001b[38;5;241;43m0\u001b[39;49m\u001b[43m]\u001b[49m\u001b[43m)\u001b[49m\n",
      "File \u001b[1;32mc:\\Users\\agraw\\OneDrive\\Desktop\\GenAI-Projects\\venv\\Lib\\site-packages\\keras\\src\\utils\\traceback_utils.py:122\u001b[0m, in \u001b[0;36mfilter_traceback.<locals>.error_handler\u001b[1;34m(*args, **kwargs)\u001b[0m\n\u001b[0;32m    119\u001b[0m     filtered_tb \u001b[38;5;241m=\u001b[39m _process_traceback_frames(e\u001b[38;5;241m.\u001b[39m__traceback__)\n\u001b[0;32m    120\u001b[0m     \u001b[38;5;66;03m# To get the full stack trace, call:\u001b[39;00m\n\u001b[0;32m    121\u001b[0m     \u001b[38;5;66;03m# `keras.config.disable_traceback_filtering()`\u001b[39;00m\n\u001b[1;32m--> 122\u001b[0m     \u001b[38;5;28;01mraise\u001b[39;00m e\u001b[38;5;241m.\u001b[39mwith_traceback(filtered_tb) \u001b[38;5;28;01mfrom\u001b[39;00m\u001b[38;5;250m \u001b[39m\u001b[38;5;28;01mNone\u001b[39;00m\n\u001b[0;32m    123\u001b[0m \u001b[38;5;28;01mfinally\u001b[39;00m:\n\u001b[0;32m    124\u001b[0m     \u001b[38;5;28;01mdel\u001b[39;00m filtered_tb\n",
      "File \u001b[1;32mc:\\Users\\agraw\\OneDrive\\Desktop\\GenAI-Projects\\venv\\Lib\\site-packages\\keras\\src\\utils\\traceback_utils.py:122\u001b[0m, in \u001b[0;36mfilter_traceback.<locals>.error_handler\u001b[1;34m(*args, **kwargs)\u001b[0m\n\u001b[0;32m    119\u001b[0m     filtered_tb \u001b[38;5;241m=\u001b[39m _process_traceback_frames(e\u001b[38;5;241m.\u001b[39m__traceback__)\n\u001b[0;32m    120\u001b[0m     \u001b[38;5;66;03m# To get the full stack trace, call:\u001b[39;00m\n\u001b[0;32m    121\u001b[0m     \u001b[38;5;66;03m# `keras.config.disable_traceback_filtering()`\u001b[39;00m\n\u001b[1;32m--> 122\u001b[0m     \u001b[38;5;28;01mraise\u001b[39;00m e\u001b[38;5;241m.\u001b[39mwith_traceback(filtered_tb) \u001b[38;5;28;01mfrom\u001b[39;00m\u001b[38;5;250m \u001b[39m\u001b[38;5;28;01mNone\u001b[39;00m\n\u001b[0;32m    123\u001b[0m \u001b[38;5;28;01mfinally\u001b[39;00m:\n\u001b[0;32m    124\u001b[0m     \u001b[38;5;28;01mdel\u001b[39;00m filtered_tb\n",
      "\u001b[1;31mValueError\u001b[0m: Exception encountered when calling Sequential.call().\n\n\u001b[1mCannot take the length of shape with unknown rank.\u001b[0m\n\nArguments received by Sequential.call():\n  • inputs=tf.Tensor(shape=<unknown>, dtype=int32)\n  • training=False\n  • mask=None"
     ]
    }
   ],
   "source": [
    "model.predict(embedded_docs[0])"
   ]
  }
 ],
 "metadata": {
  "kernelspec": {
   "display_name": "venv",
   "language": "python",
   "name": "python3"
  },
  "language_info": {
   "codemirror_mode": {
    "name": "ipython",
    "version": 3
   },
   "file_extension": ".py",
   "mimetype": "text/x-python",
   "name": "python",
   "nbconvert_exporter": "python",
   "pygments_lexer": "ipython3",
   "version": "3.11.0"
  }
 },
 "nbformat": 4,
 "nbformat_minor": 2
}
